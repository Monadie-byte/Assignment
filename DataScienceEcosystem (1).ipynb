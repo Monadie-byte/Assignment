{
  "metadata": {
    "kernelspec": {
      "name": "python",
      "display_name": "Python (Pyodide)",
      "language": "python"
    },
    "language_info": {
      "codemirror_mode": {
        "name": "python",
        "version": 3
      },
      "file_extension": ".py",
      "mimetype": "text/x-python",
      "name": "python",
      "nbconvert_exporter": "python",
      "pygments_lexer": "ipython3",
      "version": "3.8"
    }
  },
  "nbformat_minor": 5,
  "nbformat": 4,
  "cells": [
    {
      "id": "b066194b-9b81-4aa4-84a1-469ff634fe9c",
      "cell_type": "markdown",
      "source": "# Data Science Tools and Ecosystems",
      "metadata": {}
    },
    {
      "id": "8652a626-3bd1-4373-86e4-aba7d382111a",
      "cell_type": "markdown",
      "source": "In this notebook, Data Science Tools and Ecosystem are summarized",
      "metadata": {}
    },
    {
      "id": "4b464276-7b90-4dbc-b9a0-10331714960d",
      "cell_type": "markdown",
      "source": "Objectives:\n- List popular languages for Data Science\n- Commonly used libraries by Data Scientists\n- Data Science Tools\n- Arithmetic expressions in Python",
      "metadata": {}
    },
    {
      "id": "174d27fa-5109-4ed1-ae11-e4707106afdf",
      "cell_type": "markdown",
      "source": "Some of the popular languages that Data Scientists use are\n1. python\n2. Scala\n3. Java",
      "metadata": {}
    },
    {
      "id": "fde1d0dd-5874-4359-a9bb-498c14f94f54",
      "cell_type": "markdown",
      "source": "Some of the commonly used libraries used by Data Sceintisrs include:\n1. NumPy\n2. Pandas\n3. Seaborn",
      "metadata": {}
    },
    {
      "id": "92d7d82f-5ee4-47aa-adbe-98f2e07ef290",
      "cell_type": "markdown",
      "source": "|Data Science Tools|\n|-----|\n|Apache Spark|\n|Hadoop|\n|TensorFlow|",
      "metadata": {}
    },
    {
      "id": "13fc01d4-8b5b-4c03-aafd-402c73d804be",
      "cell_type": "markdown",
      "source": "### Below are a few examples of evaluating arithmatic expressions in Python",
      "metadata": {}
    },
    {
      "id": "4ebaa90a-4d57-41f7-b4dd-52a4f674a0a8",
      "cell_type": "markdown",
      "source": "This is a simple arithmetic expression to multiply then add integers",
      "metadata": {}
    },
    {
      "id": "2e6c61e2-e175-4ea8-8ba0-dad25cfe07f4",
      "cell_type": "code",
      "source": "#This is a simple arithmetic expression to multiply then add integers\n(3*4)+5",
      "metadata": {
        "trusted": true
      },
      "outputs": [
        {
          "execution_count": 2,
          "output_type": "execute_result",
          "data": {
            "text/plain": "17"
          },
          "metadata": {}
        }
      ],
      "execution_count": 2
    },
    {
      "id": "35d2655d-e8ef-4cce-81d3-2668198680c3",
      "cell_type": "code",
      "source": "#This will convert 200 minutes to hours by dividing by 60\n(200/60)",
      "metadata": {
        "trusted": true
      },
      "outputs": [
        {
          "execution_count": 3,
          "output_type": "execute_result",
          "data": {
            "text/plain": "3.3333333333333335"
          },
          "metadata": {}
        }
      ],
      "execution_count": 3
    },
    {
      "id": "dbd066e9-233d-480b-a374-ed3c4b49e446",
      "cell_type": "markdown",
      "source": "## Author\nMonadie Dissanayake",
      "metadata": {}
    }
  ]
}